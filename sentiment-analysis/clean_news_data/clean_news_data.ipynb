{
 "cells": [
  {
   "cell_type": "code",
   "execution_count": 56,
   "metadata": {},
   "outputs": [],
   "source": [
    "import sqlite3\n",
    "import pandas as pd\n",
    "from nltk.corpus import brown\n",
    "import textblob"
   ]
  },
  {
   "cell_type": "code",
   "execution_count": 2,
   "metadata": {},
   "outputs": [],
   "source": [
    "conn = sqlite3.connect('project_data.db')\n",
    "c = conn.cursor()"
   ]
  },
  {
   "cell_type": "code",
   "execution_count": 3,
   "metadata": {},
   "outputs": [
    {
     "data": {
      "text/plain": [
       "[('exchange_data',),\n",
       " ('ix_exchange_data_index',),\n",
       " ('crude_oil',),\n",
       " ('ix_crude_oil_index',),\n",
       " ('gold_price',),\n",
       " ('ix_gold_price_index',),\n",
       " ('stock_exchange',),\n",
       " ('ix_stock_exchange_index',),\n",
       " ('blockchain',),\n",
       " ('ix_blockchain_index',),\n",
       " ('bitcoin_price',),\n",
       " ('ix_bitcoin_price_index',),\n",
       " ('training_data',),\n",
       " ('ix_training_data_Date',),\n",
       " ('news_data',),\n",
       " ('ix_news_data_time',)]"
      ]
     },
     "execution_count": 3,
     "metadata": {},
     "output_type": "execute_result"
    }
   ],
   "source": [
    "c.execute('select name from sqlite_master')\n",
    "c.fetchall()"
   ]
  },
  {
   "cell_type": "code",
   "execution_count": 40,
   "metadata": {},
   "outputs": [],
   "source": [
    "news_data = pd.read_sql('select * from news_data',conn,index_col='time')"
   ]
  },
  {
   "cell_type": "code",
   "execution_count": 41,
   "metadata": {},
   "outputs": [
    {
     "data": {
      "text/html": [
       "<div>\n",
       "<style>\n",
       "    .dataframe thead tr:only-child th {\n",
       "        text-align: right;\n",
       "    }\n",
       "\n",
       "    .dataframe thead th {\n",
       "        text-align: left;\n",
       "    }\n",
       "\n",
       "    .dataframe tbody tr th {\n",
       "        vertical-align: top;\n",
       "    }\n",
       "</style>\n",
       "<table border=\"1\" class=\"dataframe\">\n",
       "  <thead>\n",
       "    <tr style=\"text-align: right;\">\n",
       "      <th></th>\n",
       "      <th>description</th>\n",
       "      <th>title</th>\n",
       "    </tr>\n",
       "    <tr>\n",
       "      <th>time</th>\n",
       "      <th></th>\n",
       "      <th></th>\n",
       "    </tr>\n",
       "  </thead>\n",
       "  <tbody>\n",
       "    <tr>\n",
       "      <th>2018-03-23 13:30:00</th>\n",
       "      <td>The cryptocurrency markets regained some poise...</td>\n",
       "      <td>ICON to EOS: 3 Cryptos Are Leading the Market ...</td>\n",
       "    </tr>\n",
       "    <tr>\n",
       "      <th>2018-03-23 11:40:00</th>\n",
       "      <td>Yahoo Japan is planning to launch its own cryp...</td>\n",
       "      <td>Yahoo Japan to Launch Cryptocurrency Exchange ...</td>\n",
       "    </tr>\n",
       "    <tr>\n",
       "      <th>2018-03-23 10:40:00</th>\n",
       "      <td>Bitcoin's retreat from the 200-day moving aver...</td>\n",
       "      <td>$8K? Bitcoin Under Pressure After Rejection at...</td>\n",
       "    </tr>\n",
       "    <tr>\n",
       "      <th>2018-03-22 14:00:00</th>\n",
       "      <td>EOS has jumped 70 percent in the last few days...</td>\n",
       "      <td>EOS Eyes Bull Reversal After 70 Percent Spike</td>\n",
       "    </tr>\n",
       "    <tr>\n",
       "      <th>2018-03-22 12:59:00</th>\n",
       "      <td>BloXroute's founder worries relay networks tha...</td>\n",
       "      <td>Better Bitcoin Relay? Crypto VCs Back BloXrout...</td>\n",
       "    </tr>\n",
       "  </tbody>\n",
       "</table>\n",
       "</div>"
      ],
      "text/plain": [
       "                                                           description  \\\n",
       "time                                                                     \n",
       "2018-03-23 13:30:00  The cryptocurrency markets regained some poise...   \n",
       "2018-03-23 11:40:00  Yahoo Japan is planning to launch its own cryp...   \n",
       "2018-03-23 10:40:00  Bitcoin's retreat from the 200-day moving aver...   \n",
       "2018-03-22 14:00:00  EOS has jumped 70 percent in the last few days...   \n",
       "2018-03-22 12:59:00  BloXroute's founder worries relay networks tha...   \n",
       "\n",
       "                                                                 title  \n",
       "time                                                                    \n",
       "2018-03-23 13:30:00  ICON to EOS: 3 Cryptos Are Leading the Market ...  \n",
       "2018-03-23 11:40:00  Yahoo Japan to Launch Cryptocurrency Exchange ...  \n",
       "2018-03-23 10:40:00  $8K? Bitcoin Under Pressure After Rejection at...  \n",
       "2018-03-22 14:00:00      EOS Eyes Bull Reversal After 70 Percent Spike  \n",
       "2018-03-22 12:59:00  Better Bitcoin Relay? Crypto VCs Back BloXrout...  "
      ]
     },
     "execution_count": 41,
     "metadata": {},
     "output_type": "execute_result"
    }
   ],
   "source": [
    "news_data.head()"
   ]
  },
  {
   "cell_type": "code",
   "execution_count": 42,
   "metadata": {},
   "outputs": [],
   "source": [
    "news_data.index = pd.to_datetime(news_data.index)"
   ]
  },
  {
   "cell_type": "code",
   "execution_count": 43,
   "metadata": {},
   "outputs": [],
   "source": [
    "news_data = news_data[~news_data.index.duplicated(keep='first')]"
   ]
  },
  {
   "cell_type": "code",
   "execution_count": 44,
   "metadata": {},
   "outputs": [
    {
     "name": "stdout",
     "output_type": "stream",
     "text": [
      "<class 'pandas.core.frame.DataFrame'>\n",
      "DatetimeIndex: 971 entries, 2018-03-23 13:30:00 to 2017-01-01 21:04:00\n",
      "Data columns (total 2 columns):\n",
      "description    971 non-null object\n",
      "title          971 non-null object\n",
      "dtypes: object(2)\n",
      "memory usage: 22.8+ KB\n"
     ]
    }
   ],
   "source": [
    "news_data.info()"
   ]
  },
  {
   "cell_type": "code",
   "execution_count": 45,
   "metadata": {},
   "outputs": [],
   "source": [
    "news_data.to_csv('news_events.csv')"
   ]
  },
  {
   "cell_type": "code",
   "execution_count": null,
   "metadata": {},
   "outputs": [],
   "source": []
  },
  {
   "cell_type": "code",
   "execution_count": null,
   "metadata": {},
   "outputs": [],
   "source": []
  },
  {
   "cell_type": "code",
   "execution_count": null,
   "metadata": {},
   "outputs": [],
   "source": []
  }
 ],
 "metadata": {
  "kernelspec": {
   "display_name": "Python 3",
   "language": "python",
   "name": "python3"
  },
  "language_info": {
   "codemirror_mode": {
    "name": "ipython",
    "version": 3
   },
   "file_extension": ".py",
   "mimetype": "text/x-python",
   "name": "python",
   "nbconvert_exporter": "python",
   "pygments_lexer": "ipython3",
   "version": "3.6.5"
  }
 },
 "nbformat": 4,
 "nbformat_minor": 2
}
