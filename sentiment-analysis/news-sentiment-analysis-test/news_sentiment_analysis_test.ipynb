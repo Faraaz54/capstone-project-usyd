{
 "cells": [
  {
   "cell_type": "code",
   "execution_count": 2,
   "metadata": {},
   "outputs": [],
   "source": [
    "import pandas as pd\n",
    "import numpy as np\n",
    "import pprint as pprint\n",
    "import matplotlib.pyplot as plt\n",
    "import re\n",
    "from vaderSentiment.vaderSentiment import SentimentIntensityAnalyzer"
   ]
  },
  {
   "cell_type": "code",
   "execution_count": 7,
   "metadata": {},
   "outputs": [
    {
     "data": {
      "text/html": [
       "<div>\n",
       "<style>\n",
       "    .dataframe thead tr:only-child th {\n",
       "        text-align: right;\n",
       "    }\n",
       "\n",
       "    .dataframe thead th {\n",
       "        text-align: left;\n",
       "    }\n",
       "\n",
       "    .dataframe tbody tr th {\n",
       "        vertical-align: top;\n",
       "    }\n",
       "</style>\n",
       "<table border=\"1\" class=\"dataframe\">\n",
       "  <thead>\n",
       "    <tr style=\"text-align: right;\">\n",
       "      <th></th>\n",
       "      <th>Date</th>\n",
       "      <th>title</th>\n",
       "    </tr>\n",
       "    <tr>\n",
       "      <th>Date</th>\n",
       "      <th></th>\n",
       "      <th></th>\n",
       "    </tr>\n",
       "  </thead>\n",
       "  <tbody>\n",
       "    <tr>\n",
       "      <th>2018-05-30 01:30:00</th>\n",
       "      <td>2018-05-30 01:30:00</td>\n",
       "      <td>UK Financial Regulator Launches 24 Cryptocurre...</td>\n",
       "    </tr>\n",
       "    <tr>\n",
       "      <th>2018-05-30 00:05:00</th>\n",
       "      <td>2018-05-30 00:05:00</td>\n",
       "      <td>Italys Economic Pain Is the Bitcoin Prices Gain</td>\n",
       "    </tr>\n",
       "    <tr>\n",
       "      <th>2018-05-29 23:09:00</th>\n",
       "      <td>2018-05-29 23:09:00</td>\n",
       "      <td>Average ICO Investor Makes 82 Percent Profit: ...</td>\n",
       "    </tr>\n",
       "    <tr>\n",
       "      <th>2018-05-29 22:05:00</th>\n",
       "      <td>2018-05-29 22:05:00</td>\n",
       "      <td>Cryptocurrency Trading Halted in Zimbabwe Desp...</td>\n",
       "    </tr>\n",
       "    <tr>\n",
       "      <th>2018-05-29 21:08:00</th>\n",
       "      <td>2018-05-29 21:08:00</td>\n",
       "      <td>Crypto World Definitely in a Bubble: Wikiped...</td>\n",
       "    </tr>\n",
       "  </tbody>\n",
       "</table>\n",
       "</div>"
      ],
      "text/plain": [
       "                                   Date  \\\n",
       "Date                                      \n",
       "2018-05-30 01:30:00 2018-05-30 01:30:00   \n",
       "2018-05-30 00:05:00 2018-05-30 00:05:00   \n",
       "2018-05-29 23:09:00 2018-05-29 23:09:00   \n",
       "2018-05-29 22:05:00 2018-05-29 22:05:00   \n",
       "2018-05-29 21:08:00 2018-05-29 21:08:00   \n",
       "\n",
       "                                                                 title  \n",
       "Date                                                                    \n",
       "2018-05-30 01:30:00  UK Financial Regulator Launches 24 Cryptocurre...  \n",
       "2018-05-30 00:05:00  Italys Economic Pain Is the Bitcoin Prices Gain  \n",
       "2018-05-29 23:09:00  Average ICO Investor Makes 82 Percent Profit: ...  \n",
       "2018-05-29 22:05:00  Cryptocurrency Trading Halted in Zimbabwe Desp...  \n",
       "2018-05-29 21:08:00  Crypto World Definitely in a Bubble: Wikiped...  "
      ]
     },
     "execution_count": 7,
     "metadata": {},
     "output_type": "execute_result"
    }
   ],
   "source": [
    "data = pd.read_csv('news_data_ccn.csv',encoding=\"ISO-8859-1\",parse_dates={'Date':[0]})\n",
    "data.index = data['Date']\n",
    "data.head()"
   ]
  },
  {
   "cell_type": "code",
   "execution_count": 17,
   "metadata": {},
   "outputs": [],
   "source": [
    "data = data.drop('Date',axis=1)"
   ]
  },
  {
   "cell_type": "code",
   "execution_count": 18,
   "metadata": {},
   "outputs": [],
   "source": [
    "analyzer = SentimentIntensityAnalyzer()\n",
    "data['sentiment'] = data['title'].apply(lambda x:analyzer.polarity_scores(str(x))['compound'])"
   ]
  },
  {
   "cell_type": "code",
   "execution_count": 30,
   "metadata": {},
   "outputs": [],
   "source": [
    "data1 = data.loc['2018-05-16':'2018-02-23','sentiment']"
   ]
  },
  {
   "cell_type": "code",
   "execution_count": 31,
   "metadata": {},
   "outputs": [],
   "source": [
    "data1 = data1.resample('1H').mean()"
   ]
  },
  {
   "cell_type": "code",
   "execution_count": 32,
   "metadata": {},
   "outputs": [],
   "source": [
    "index = pd.date_range(start='23/02/2018', end='16/05/2018',freq='1H',normalize=True)"
   ]
  },
  {
   "cell_type": "code",
   "execution_count": 33,
   "metadata": {},
   "outputs": [],
   "source": [
    "data1 = data1.reindex(index)"
   ]
  },
  {
   "cell_type": "code",
   "execution_count": 35,
   "metadata": {},
   "outputs": [],
   "source": [
    "data1 = data1.fillna(0)"
   ]
  },
  {
   "cell_type": "code",
   "execution_count": 41,
   "metadata": {},
   "outputs": [
    {
     "data": {
      "text/plain": [
       "0"
      ]
     },
     "execution_count": 41,
     "metadata": {},
     "output_type": "execute_result"
    }
   ],
   "source": [
    "data1.isnull().sum()"
   ]
  },
  {
   "cell_type": "code",
   "execution_count": 42,
   "metadata": {},
   "outputs": [],
   "source": [
    "data1.to_csv('news_data_sentiment_test.csv')"
   ]
  },
  {
   "cell_type": "code",
   "execution_count": null,
   "metadata": {},
   "outputs": [],
   "source": []
  }
 ],
 "metadata": {
  "kernelspec": {
   "display_name": "Python 3",
   "language": "python",
   "name": "python3"
  },
  "language_info": {
   "codemirror_mode": {
    "name": "ipython",
    "version": 3
   },
   "file_extension": ".py",
   "mimetype": "text/x-python",
   "name": "python",
   "nbconvert_exporter": "python",
   "pygments_lexer": "ipython3",
   "version": "3.6.5"
  }
 },
 "nbformat": 4,
 "nbformat_minor": 2
}
