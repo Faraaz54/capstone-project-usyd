{
 "cells": [
  {
   "cell_type": "code",
   "execution_count": 1,
   "metadata": {},
   "outputs": [],
   "source": [
    "import pandas as pd\n",
    "import quandl\n",
    "import datetime\n",
    "import numpy as np"
   ]
  },
  {
   "cell_type": "code",
   "execution_count": null,
   "metadata": {},
   "outputs": [],
   "source": [
    "#done with currency data\n",
    "#data taken from https://www.ofx.com/en-au/forex-news/historical-exchange-rates/"
   ]
  },
  {
   "cell_type": "code",
   "execution_count": 7,
   "metadata": {},
   "outputs": [],
   "source": [
    "def preprocess_series(df):\n",
    "    df.index = pd.to_datetime(df.index)\n",
    "    #slice the date range to 01-01-2017 -- 23-03-2017\n",
    "    df = df['2018-02-23':'2018-05-16']\n",
    "    #print(len(df))\n",
    "    #print('dtype--',df.dtypes)\n",
    "    #drop duplicate values\n",
    "    #df = df.drop_duplicates(keep=False)\n",
    "    #check datatype of the column,should only consist of numbers(fill with nans)\n",
    "    df = df.apply(pd.to_numeric,errors='coerce')\n",
    "    #print('null--',df.isnull().sum())\n",
    "    #reindex if the date range not available.\n",
    "    start = datetime.datetime(2018, 2, 23)\n",
    "    end = datetime.datetime(2018, 5, 16)\n",
    "    index = pd.date_range(start, end)\n",
    "    df = df.reindex(index)\n",
    "    #bfill or ffill to fill the values\n",
    "    df = df.fillna(method='bfill')\n",
    "    df = df.fillna(method='ffill')\n",
    "    df = df.asfreq('60Min',method='pad')\n",
    "    return pd.DataFrame(df)"
   ]
  },
  {
   "cell_type": "code",
   "execution_count": 3,
   "metadata": {},
   "outputs": [],
   "source": [
    "#reading data\n",
    "def get_exchange_data():\n",
    "    #https://www.ofx.com/en-au/forex-news/historical-exchange-rates/\n",
    "    eur = preprocess_series(pd.read_csv('US_EUR.csv',index_col='DATE'))\n",
    "    cny = preprocess_series(pd.read_csv('US_CNY.csv',index_col='DATE'))\n",
    "    chf = preprocess_series(pd.read_csv('US_CHF.csv',index_col='DATE'))\n",
    "    gbp = preprocess_series(pd.read_csv('US_GBP.csv',index_col='DATE'))\n",
    "    jpy = preprocess_series(pd.read_csv('US_JPN.csv',index_col='DATE'))\n",
    "    exchange_data = pd.concat([eur,cny,chf,gbp,jpy],axis=1)\n",
    "    exchange_data.columns = ['eur','cny','chf','gbp','jpy']\n",
    "    return exchange_data\n"
   ]
  },
  {
   "cell_type": "code",
   "execution_count": 13,
   "metadata": {},
   "outputs": [],
   "source": [
    "exchange_data = get_exchange_data()"
   ]
  },
  {
   "cell_type": "code",
   "execution_count": 14,
   "metadata": {},
   "outputs": [
    {
     "name": "stdout",
     "output_type": "stream",
     "text": [
      "<class 'pandas.core.frame.DataFrame'>\n",
      "DatetimeIndex: 1969 entries, 2018-02-23 00:00:00 to 2018-05-16 00:00:00\n",
      "Freq: 60T\n",
      "Data columns (total 5 columns):\n",
      "eur    1969 non-null float64\n",
      "cny    1969 non-null float64\n",
      "chf    1969 non-null float64\n",
      "gbp    1969 non-null float64\n",
      "jpy    1969 non-null float64\n",
      "dtypes: float64(5)\n",
      "memory usage: 172.3 KB\n"
     ]
    }
   ],
   "source": [
    "exchange_data.info()"
   ]
  },
  {
   "cell_type": "code",
   "execution_count": 15,
   "metadata": {},
   "outputs": [],
   "source": [
    "#quandl api\n",
    "def get_crudeoil_data():\n",
    "    oil_data = preprocess_series(pd.read_csv('crude_oil.csv',index_col='DATE'))\n",
    "    return oil_data"
   ]
  },
  {
   "cell_type": "code",
   "execution_count": 16,
   "metadata": {},
   "outputs": [],
   "source": [
    "crude_oil = get_crudeoil_data()"
   ]
  },
  {
   "cell_type": "code",
   "execution_count": 17,
   "metadata": {},
   "outputs": [
    {
     "name": "stdout",
     "output_type": "stream",
     "text": [
      "<class 'pandas.core.frame.DataFrame'>\n",
      "DatetimeIndex: 1969 entries, 2018-02-23 00:00:00 to 2018-05-16 00:00:00\n",
      "Freq: 60T\n",
      "Data columns (total 1 columns):\n",
      "crude_oil    1969 non-null float64\n",
      "dtypes: float64(1)\n",
      "memory usage: 30.8 KB\n"
     ]
    }
   ],
   "source": [
    "crude_oil.info()"
   ]
  },
  {
   "cell_type": "code",
   "execution_count": 18,
   "metadata": {},
   "outputs": [],
   "source": [
    "#quandl api\n",
    "def get_gold_data():\n",
    "    gold = preprocess_series(pd.read_csv('gold_price_test.csv',index_col='DATE'))\n",
    "    return gold"
   ]
  },
  {
   "cell_type": "code",
   "execution_count": 19,
   "metadata": {},
   "outputs": [],
   "source": [
    "gold_price = get_gold_data()"
   ]
  },
  {
   "cell_type": "code",
   "execution_count": 20,
   "metadata": {},
   "outputs": [
    {
     "name": "stdout",
     "output_type": "stream",
     "text": [
      "<class 'pandas.core.frame.DataFrame'>\n",
      "DatetimeIndex: 1969 entries, 2018-02-23 00:00:00 to 2018-05-16 00:00:00\n",
      "Freq: 60T\n",
      "Data columns (total 1 columns):\n",
      "gold    1969 non-null float64\n",
      "dtypes: float64(1)\n",
      "memory usage: 30.8 KB\n"
     ]
    }
   ],
   "source": [
    "gold_price.info()"
   ]
  },
  {
   "cell_type": "code",
   "execution_count": 21,
   "metadata": {},
   "outputs": [],
   "source": [
    "def get_stock_exchange_data():\n",
    "    #https://query1.finance.yahoo.com/v7/finance/download/%5ESTOXX50E?period1=148318920\n",
    "    SP500 = preprocess_series(pd.read_csv('SP500.csv',index_col='DATE')) \n",
    "    Nasdaq = preprocess_series(pd.read_csv('NASDAQ100.csv',index_col='DATE'))\n",
    "    nikkei = preprocess_series(pd.read_csv('NIKKEI225.csv',index_col='DATE'))\n",
    "    ftse = preprocess_series(pd.read_csv('FTSE100.csv',index_col='DATE'))\n",
    "    eurostoxx = preprocess_series(pd.read_csv('Eurostox_50.csv',index_col='DATE'))\n",
    "    Vix = preprocess_series(pd.read_csv('VIX.csv',index_col='DATE'))\n",
    "    dow_jones = preprocess_series(pd.read_csv('DowJones.csv',index_col='DATE'))\n",
    "    Sse = preprocess_series(pd.read_csv('SSE.csv',index_col='DATE'))\n",
    "    \n",
    "    stock_exchange_data = pd.concat([SP500,Nasdaq,nikkei,ftse,eurostoxx,Vix,dow_jones,Sse],axis=1)\n",
    "    stock_exchange_data.columns = ['SP500','Nasdaq','Nikkei','Ftse','Eurostoxx','Vix','DowJones','Sse']\n",
    "    return stock_exchange_data"
   ]
  },
  {
   "cell_type": "code",
   "execution_count": 22,
   "metadata": {},
   "outputs": [],
   "source": [
    "stock_indices = get_stock_exchange_data()"
   ]
  },
  {
   "cell_type": "code",
   "execution_count": 23,
   "metadata": {},
   "outputs": [
    {
     "name": "stdout",
     "output_type": "stream",
     "text": [
      "<class 'pandas.core.frame.DataFrame'>\n",
      "DatetimeIndex: 1969 entries, 2018-02-23 00:00:00 to 2018-05-16 00:00:00\n",
      "Freq: 60T\n",
      "Data columns (total 8 columns):\n",
      "SP500        1969 non-null float64\n",
      "Nasdaq       1969 non-null float64\n",
      "Nikkei       1969 non-null float64\n",
      "Ftse         1969 non-null float64\n",
      "Eurostoxx    1969 non-null float64\n",
      "Vix          1969 non-null float64\n",
      "DowJones     1969 non-null float64\n",
      "Sse          1969 non-null float64\n",
      "dtypes: float64(8)\n",
      "memory usage: 218.4 KB\n"
     ]
    }
   ],
   "source": [
    "stock_indices.info()"
   ]
  },
  {
   "cell_type": "code",
   "execution_count": 24,
   "metadata": {},
   "outputs": [],
   "source": [
    "def get_blockchain_info():\n",
    "    quandl.ApiConfig.api_key = \"6oZyLZYgnpY-E4zY4smC\"\n",
    "    start = datetime.datetime(2018, 2, 23)\n",
    "    end = datetime.datetime(2018, 5, 16)\n",
    "    freq='1H'\n",
    "    index = pd.date_range(start, end,freq=freq)\n",
    "    data_dict = dict()\n",
    "    keys = [('BCHAIN/DIFF','difficulty'),('BCHAIN/AVBLS','average_block_size'),('BCHAIN/ATRCT','median_confirm_time'),\\\n",
    "            ('BCHAIN/MIREV','miner_revenue'),('BCHAIN/HRATE','hash_rate'),('BCHAIN/CPTRV','cost_%_trans_vol'),\\\n",
    "            ('BCHAIN/NTRBL','trans/block'),('BCHAIN/MKTCP','market_cap'),('BCHAIN/ETRVU','est_trans_vol_usd')] \n",
    "    for key,name in keys:\n",
    "        preprocessed_series = preprocess_series(quandl.get(key, start_date='2018-02-01', end_date='2018-05-17'))\n",
    "        flattened_array = np.concatenate(preprocessed_series.round(2).values).ravel()\n",
    "        data_dict[name] = flattened_array\n",
    "    blockchain_features = pd.DataFrame.from_dict(data_dict,orient='columns')\n",
    "    blockchain_features.index = index\n",
    "    confirmed_transactions = preprocess_series(pd.read_csv('Confirmed_Transactions.csv',index_col='DATE'))\n",
    "    blockchain_features = pd.concat([blockchain_features,confirmed_transactions],axis=1)\n",
    "    return blockchain_features"
   ]
  },
  {
   "cell_type": "code",
   "execution_count": 25,
   "metadata": {},
   "outputs": [],
   "source": [
    "blockchain_data = get_blockchain_info()"
   ]
  },
  {
   "cell_type": "code",
   "execution_count": 26,
   "metadata": {},
   "outputs": [
    {
     "name": "stdout",
     "output_type": "stream",
     "text": [
      "<class 'pandas.core.frame.DataFrame'>\n",
      "DatetimeIndex: 1969 entries, 2018-02-23 00:00:00 to 2018-05-16 00:00:00\n",
      "Freq: H\n",
      "Data columns (total 10 columns):\n",
      "average_block_size        1969 non-null float64\n",
      "cost_%_trans_vol          1969 non-null float64\n",
      "difficulty                1969 non-null float64\n",
      "est_trans_vol_usd         1969 non-null float64\n",
      "hash_rate                 1969 non-null float64\n",
      "market_cap                1969 non-null float64\n",
      "median_confirm_time       1969 non-null float64\n",
      "miner_revenue             1969 non-null float64\n",
      "trans/block               1969 non-null float64\n",
      "Confirmed_transactions    1969 non-null int64\n",
      "dtypes: float64(9), int64(1)\n",
      "memory usage: 249.2 KB\n"
     ]
    }
   ],
   "source": [
    "blockchain_data.info()"
   ]
  },
  {
   "cell_type": "code",
   "execution_count": 27,
   "metadata": {},
   "outputs": [],
   "source": [
    "test_dataset = pd.concat([exchange_data,crude_oil,gold_price,stock_indices,blockchain_data],axis=1)"
   ]
  },
  {
   "cell_type": "code",
   "execution_count": 28,
   "metadata": {},
   "outputs": [
    {
     "data": {
      "text/html": [
       "<div>\n",
       "<style>\n",
       "    .dataframe thead tr:only-child th {\n",
       "        text-align: right;\n",
       "    }\n",
       "\n",
       "    .dataframe thead th {\n",
       "        text-align: left;\n",
       "    }\n",
       "\n",
       "    .dataframe tbody tr th {\n",
       "        vertical-align: top;\n",
       "    }\n",
       "</style>\n",
       "<table border=\"1\" class=\"dataframe\">\n",
       "  <thead>\n",
       "    <tr style=\"text-align: right;\">\n",
       "      <th></th>\n",
       "      <th>eur</th>\n",
       "      <th>cny</th>\n",
       "      <th>chf</th>\n",
       "      <th>gbp</th>\n",
       "      <th>jpy</th>\n",
       "      <th>crude_oil</th>\n",
       "      <th>gold</th>\n",
       "      <th>SP500</th>\n",
       "      <th>Nasdaq</th>\n",
       "      <th>Nikkei</th>\n",
       "      <th>...</th>\n",
       "      <th>average_block_size</th>\n",
       "      <th>cost_%_trans_vol</th>\n",
       "      <th>difficulty</th>\n",
       "      <th>est_trans_vol_usd</th>\n",
       "      <th>hash_rate</th>\n",
       "      <th>market_cap</th>\n",
       "      <th>median_confirm_time</th>\n",
       "      <th>miner_revenue</th>\n",
       "      <th>trans/block</th>\n",
       "      <th>Confirmed_transactions</th>\n",
       "    </tr>\n",
       "  </thead>\n",
       "  <tbody>\n",
       "    <tr>\n",
       "      <th>2018-02-23 00:00:00</th>\n",
       "      <td>0.81</td>\n",
       "      <td>6.34</td>\n",
       "      <td>0.94</td>\n",
       "      <td>0.72</td>\n",
       "      <td>106.65</td>\n",
       "      <td>63.52</td>\n",
       "      <td>1328.9</td>\n",
       "      <td>2747.3</td>\n",
       "      <td>6896.6</td>\n",
       "      <td>21892.78</td>\n",
       "      <td>...</td>\n",
       "      <td>0.92</td>\n",
       "      <td>0.75</td>\n",
       "      <td>3.007384e+12</td>\n",
       "      <td>2.511448e+09</td>\n",
       "      <td>22275181.57</td>\n",
       "      <td>1.676444e+11</td>\n",
       "      <td>9.12</td>\n",
       "      <td>18506552.05</td>\n",
       "      <td>1229.77</td>\n",
       "      <td>185193</td>\n",
       "    </tr>\n",
       "    <tr>\n",
       "      <th>2018-02-23 01:00:00</th>\n",
       "      <td>0.81</td>\n",
       "      <td>6.34</td>\n",
       "      <td>0.94</td>\n",
       "      <td>0.72</td>\n",
       "      <td>106.65</td>\n",
       "      <td>63.52</td>\n",
       "      <td>1328.9</td>\n",
       "      <td>2747.3</td>\n",
       "      <td>6896.6</td>\n",
       "      <td>21892.78</td>\n",
       "      <td>...</td>\n",
       "      <td>0.92</td>\n",
       "      <td>0.75</td>\n",
       "      <td>3.007384e+12</td>\n",
       "      <td>2.511448e+09</td>\n",
       "      <td>22275181.57</td>\n",
       "      <td>1.676444e+11</td>\n",
       "      <td>9.12</td>\n",
       "      <td>18506552.05</td>\n",
       "      <td>1229.77</td>\n",
       "      <td>185193</td>\n",
       "    </tr>\n",
       "    <tr>\n",
       "      <th>2018-02-23 02:00:00</th>\n",
       "      <td>0.81</td>\n",
       "      <td>6.34</td>\n",
       "      <td>0.94</td>\n",
       "      <td>0.72</td>\n",
       "      <td>106.65</td>\n",
       "      <td>63.52</td>\n",
       "      <td>1328.9</td>\n",
       "      <td>2747.3</td>\n",
       "      <td>6896.6</td>\n",
       "      <td>21892.78</td>\n",
       "      <td>...</td>\n",
       "      <td>0.92</td>\n",
       "      <td>0.75</td>\n",
       "      <td>3.007384e+12</td>\n",
       "      <td>2.511448e+09</td>\n",
       "      <td>22275181.57</td>\n",
       "      <td>1.676444e+11</td>\n",
       "      <td>9.12</td>\n",
       "      <td>18506552.05</td>\n",
       "      <td>1229.77</td>\n",
       "      <td>185193</td>\n",
       "    </tr>\n",
       "    <tr>\n",
       "      <th>2018-02-23 03:00:00</th>\n",
       "      <td>0.81</td>\n",
       "      <td>6.34</td>\n",
       "      <td>0.94</td>\n",
       "      <td>0.72</td>\n",
       "      <td>106.65</td>\n",
       "      <td>63.52</td>\n",
       "      <td>1328.9</td>\n",
       "      <td>2747.3</td>\n",
       "      <td>6896.6</td>\n",
       "      <td>21892.78</td>\n",
       "      <td>...</td>\n",
       "      <td>0.92</td>\n",
       "      <td>0.75</td>\n",
       "      <td>3.007384e+12</td>\n",
       "      <td>2.511448e+09</td>\n",
       "      <td>22275181.57</td>\n",
       "      <td>1.676444e+11</td>\n",
       "      <td>9.12</td>\n",
       "      <td>18506552.05</td>\n",
       "      <td>1229.77</td>\n",
       "      <td>185193</td>\n",
       "    </tr>\n",
       "    <tr>\n",
       "      <th>2018-02-23 04:00:00</th>\n",
       "      <td>0.81</td>\n",
       "      <td>6.34</td>\n",
       "      <td>0.94</td>\n",
       "      <td>0.72</td>\n",
       "      <td>106.65</td>\n",
       "      <td>63.52</td>\n",
       "      <td>1328.9</td>\n",
       "      <td>2747.3</td>\n",
       "      <td>6896.6</td>\n",
       "      <td>21892.78</td>\n",
       "      <td>...</td>\n",
       "      <td>0.92</td>\n",
       "      <td>0.75</td>\n",
       "      <td>3.007384e+12</td>\n",
       "      <td>2.511448e+09</td>\n",
       "      <td>22275181.57</td>\n",
       "      <td>1.676444e+11</td>\n",
       "      <td>9.12</td>\n",
       "      <td>18506552.05</td>\n",
       "      <td>1229.77</td>\n",
       "      <td>185193</td>\n",
       "    </tr>\n",
       "  </tbody>\n",
       "</table>\n",
       "<p>5 rows × 25 columns</p>\n",
       "</div>"
      ],
      "text/plain": [
       "                      eur   cny   chf   gbp     jpy  crude_oil    gold  \\\n",
       "2018-02-23 00:00:00  0.81  6.34  0.94  0.72  106.65      63.52  1328.9   \n",
       "2018-02-23 01:00:00  0.81  6.34  0.94  0.72  106.65      63.52  1328.9   \n",
       "2018-02-23 02:00:00  0.81  6.34  0.94  0.72  106.65      63.52  1328.9   \n",
       "2018-02-23 03:00:00  0.81  6.34  0.94  0.72  106.65      63.52  1328.9   \n",
       "2018-02-23 04:00:00  0.81  6.34  0.94  0.72  106.65      63.52  1328.9   \n",
       "\n",
       "                      SP500  Nasdaq    Nikkei           ...            \\\n",
       "2018-02-23 00:00:00  2747.3  6896.6  21892.78           ...             \n",
       "2018-02-23 01:00:00  2747.3  6896.6  21892.78           ...             \n",
       "2018-02-23 02:00:00  2747.3  6896.6  21892.78           ...             \n",
       "2018-02-23 03:00:00  2747.3  6896.6  21892.78           ...             \n",
       "2018-02-23 04:00:00  2747.3  6896.6  21892.78           ...             \n",
       "\n",
       "                     average_block_size  cost_%_trans_vol    difficulty  \\\n",
       "2018-02-23 00:00:00                0.92              0.75  3.007384e+12   \n",
       "2018-02-23 01:00:00                0.92              0.75  3.007384e+12   \n",
       "2018-02-23 02:00:00                0.92              0.75  3.007384e+12   \n",
       "2018-02-23 03:00:00                0.92              0.75  3.007384e+12   \n",
       "2018-02-23 04:00:00                0.92              0.75  3.007384e+12   \n",
       "\n",
       "                     est_trans_vol_usd    hash_rate    market_cap  \\\n",
       "2018-02-23 00:00:00       2.511448e+09  22275181.57  1.676444e+11   \n",
       "2018-02-23 01:00:00       2.511448e+09  22275181.57  1.676444e+11   \n",
       "2018-02-23 02:00:00       2.511448e+09  22275181.57  1.676444e+11   \n",
       "2018-02-23 03:00:00       2.511448e+09  22275181.57  1.676444e+11   \n",
       "2018-02-23 04:00:00       2.511448e+09  22275181.57  1.676444e+11   \n",
       "\n",
       "                     median_confirm_time  miner_revenue  trans/block  \\\n",
       "2018-02-23 00:00:00                 9.12    18506552.05      1229.77   \n",
       "2018-02-23 01:00:00                 9.12    18506552.05      1229.77   \n",
       "2018-02-23 02:00:00                 9.12    18506552.05      1229.77   \n",
       "2018-02-23 03:00:00                 9.12    18506552.05      1229.77   \n",
       "2018-02-23 04:00:00                 9.12    18506552.05      1229.77   \n",
       "\n",
       "                     Confirmed_transactions  \n",
       "2018-02-23 00:00:00                  185193  \n",
       "2018-02-23 01:00:00                  185193  \n",
       "2018-02-23 02:00:00                  185193  \n",
       "2018-02-23 03:00:00                  185193  \n",
       "2018-02-23 04:00:00                  185193  \n",
       "\n",
       "[5 rows x 25 columns]"
      ]
     },
     "execution_count": 28,
     "metadata": {},
     "output_type": "execute_result"
    }
   ],
   "source": [
    "test_dataset.head()"
   ]
  },
  {
   "cell_type": "code",
   "execution_count": 29,
   "metadata": {},
   "outputs": [
    {
     "name": "stdout",
     "output_type": "stream",
     "text": [
      "<class 'pandas.core.frame.DataFrame'>\n",
      "DatetimeIndex: 1969 entries, 2018-02-23 00:00:00 to 2018-05-16 00:00:00\n",
      "Freq: 60T\n",
      "Data columns (total 25 columns):\n",
      "eur                       1969 non-null float64\n",
      "cny                       1969 non-null float64\n",
      "chf                       1969 non-null float64\n",
      "gbp                       1969 non-null float64\n",
      "jpy                       1969 non-null float64\n",
      "crude_oil                 1969 non-null float64\n",
      "gold                      1969 non-null float64\n",
      "SP500                     1969 non-null float64\n",
      "Nasdaq                    1969 non-null float64\n",
      "Nikkei                    1969 non-null float64\n",
      "Ftse                      1969 non-null float64\n",
      "Eurostoxx                 1969 non-null float64\n",
      "Vix                       1969 non-null float64\n",
      "DowJones                  1969 non-null float64\n",
      "Sse                       1969 non-null float64\n",
      "average_block_size        1969 non-null float64\n",
      "cost_%_trans_vol          1969 non-null float64\n",
      "difficulty                1969 non-null float64\n",
      "est_trans_vol_usd         1969 non-null float64\n",
      "hash_rate                 1969 non-null float64\n",
      "market_cap                1969 non-null float64\n",
      "median_confirm_time       1969 non-null float64\n",
      "miner_revenue             1969 non-null float64\n",
      "trans/block               1969 non-null float64\n",
      "Confirmed_transactions    1969 non-null int64\n",
      "dtypes: float64(24), int64(1)\n",
      "memory usage: 480.0 KB\n"
     ]
    }
   ],
   "source": [
    "test_dataset.info()"
   ]
  },
  {
   "cell_type": "code",
   "execution_count": 30,
   "metadata": {},
   "outputs": [],
   "source": [
    "test_dataset.to_csv('test_data.csv')"
   ]
  },
  {
   "cell_type": "code",
   "execution_count": null,
   "metadata": {},
   "outputs": [],
   "source": []
  }
 ],
 "metadata": {
  "kernelspec": {
   "display_name": "Python 3",
   "language": "python",
   "name": "python3"
  },
  "language_info": {
   "codemirror_mode": {
    "name": "ipython",
    "version": 3
   },
   "file_extension": ".py",
   "mimetype": "text/x-python",
   "name": "python",
   "nbconvert_exporter": "python",
   "pygments_lexer": "ipython3",
   "version": "3.6.5"
  }
 },
 "nbformat": 4,
 "nbformat_minor": 2
}
