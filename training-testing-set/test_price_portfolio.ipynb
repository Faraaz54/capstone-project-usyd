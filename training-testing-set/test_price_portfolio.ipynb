{
 "cells": [
  {
   "cell_type": "code",
   "execution_count": 1,
   "metadata": {},
   "outputs": [],
   "source": [
    "import pandas as pd\n",
    "import numpy as np\n",
    "import datetime\n",
    "import matplotlib.pyplot as plt"
   ]
  },
  {
   "cell_type": "code",
   "execution_count": 25,
   "metadata": {},
   "outputs": [],
   "source": [
    "#https://bitcoincharts.com\n",
    "BTCC_unp = pd.read_csv('BTCC.csv',index_col='DATE')\n",
    "kraken_unp = pd.read_csv('kraken.csv',index_col='DATE')\n",
    "bitstamp_unp = pd.read_csv('bitstamp.csv',index_col='DATE')\n",
    "GDAX_unp = df=pd.read_csv('gdax.csv',index_col='DATE')"
   ]
  },
  {
   "cell_type": "code",
   "execution_count": 26,
   "metadata": {},
   "outputs": [],
   "source": [
    "BTCC_unp.index = pd.to_datetime(BTCC_unp.index)\n",
    "kraken_unp.index = pd.to_datetime(kraken_unp.index)\n",
    "bitstamp_unp.index = pd.to_datetime(bitstamp_unp.index)\n",
    "GDAX_unp.index = pd.to_datetime(GDAX_unp.index)"
   ]
  },
  {
   "cell_type": "code",
   "execution_count": 27,
   "metadata": {},
   "outputs": [],
   "source": [
    "BTCC = BTCC_unp.fillna(method='ffill')\n",
    "kraken = kraken_unp.fillna(method='ffill')\n",
    "bitstamp = bitstamp_unp.fillna(method='ffill')\n",
    "gdax = GDAX_unp.fillna(method='ffill')"
   ]
  },
  {
   "cell_type": "code",
   "execution_count": 28,
   "metadata": {},
   "outputs": [
    {
     "name": "stdout",
     "output_type": "stream",
     "text": [
      "<class 'pandas.core.frame.DataFrame'>\n",
      "DatetimeIndex: 1969 entries, 2018-02-23 00:00:00 to 2018-05-16 00:00:00\n",
      "Data columns (total 1 columns):\n",
      "close    1969 non-null float64\n",
      "dtypes: float64(1)\n",
      "memory usage: 30.8 KB\n"
     ]
    }
   ],
   "source": [
    "BTCC.info()"
   ]
  },
  {
   "cell_type": "code",
   "execution_count": 29,
   "metadata": {},
   "outputs": [
    {
     "name": "stdout",
     "output_type": "stream",
     "text": [
      "<class 'pandas.core.frame.DataFrame'>\n",
      "DatetimeIndex: 1969 entries, 2018-02-23 00:00:00 to 2018-05-16 00:00:00\n",
      "Data columns (total 1 columns):\n",
      "close    1969 non-null float64\n",
      "dtypes: float64(1)\n",
      "memory usage: 30.8 KB\n"
     ]
    }
   ],
   "source": [
    "kraken.info()"
   ]
  },
  {
   "cell_type": "code",
   "execution_count": 30,
   "metadata": {},
   "outputs": [
    {
     "name": "stdout",
     "output_type": "stream",
     "text": [
      "<class 'pandas.core.frame.DataFrame'>\n",
      "DatetimeIndex: 1969 entries, 2018-02-23 00:00:00 to 2018-05-16 00:00:00\n",
      "Data columns (total 1 columns):\n",
      "close    1969 non-null float64\n",
      "dtypes: float64(1)\n",
      "memory usage: 30.8 KB\n"
     ]
    }
   ],
   "source": [
    "bitstamp.info()"
   ]
  },
  {
   "cell_type": "code",
   "execution_count": 31,
   "metadata": {},
   "outputs": [
    {
     "name": "stdout",
     "output_type": "stream",
     "text": [
      "<class 'pandas.core.frame.DataFrame'>\n",
      "DatetimeIndex: 1969 entries, 2018-02-23 00:00:00 to 2018-05-16 00:00:00\n",
      "Data columns (total 1 columns):\n",
      "close    1969 non-null float64\n",
      "dtypes: float64(1)\n",
      "memory usage: 30.8 KB\n"
     ]
    }
   ],
   "source": [
    "gdax.info()"
   ]
  },
  {
   "cell_type": "code",
   "execution_count": 32,
   "metadata": {},
   "outputs": [],
   "source": [
    "bitcoin_price = (BTCC + kraken + bitstamp + gdax) / 4"
   ]
  },
  {
   "cell_type": "code",
   "execution_count": 33,
   "metadata": {},
   "outputs": [
    {
     "name": "stdout",
     "output_type": "stream",
     "text": [
      "<class 'pandas.core.frame.DataFrame'>\n",
      "DatetimeIndex: 1969 entries, 2018-02-23 00:00:00 to 2018-05-16 00:00:00\n",
      "Data columns (total 1 columns):\n",
      "close    1969 non-null float64\n",
      "dtypes: float64(1)\n",
      "memory usage: 30.8 KB\n"
     ]
    }
   ],
   "source": [
    "bitcoin_price.info()"
   ]
  },
  {
   "cell_type": "code",
   "execution_count": 35,
   "metadata": {},
   "outputs": [],
   "source": [
    "bitcoin_price.to_csv('test_price.csv')"
   ]
  },
  {
   "cell_type": "code",
   "execution_count": null,
   "metadata": {},
   "outputs": [],
   "source": []
  }
 ],
 "metadata": {
  "kernelspec": {
   "display_name": "Python 3",
   "language": "python",
   "name": "python3"
  },
  "language_info": {
   "codemirror_mode": {
    "name": "ipython",
    "version": 3
   },
   "file_extension": ".py",
   "mimetype": "text/x-python",
   "name": "python",
   "nbconvert_exporter": "python",
   "pygments_lexer": "ipython3",
   "version": "3.6.5"
  }
 },
 "nbformat": 4,
 "nbformat_minor": 2
}
